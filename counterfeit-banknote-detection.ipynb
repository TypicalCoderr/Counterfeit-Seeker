{
 "cells": [
  {
   "cell_type": "markdown",
   "id": "95a16912",
   "metadata": {},
   "source": [
    "# Detect forged banknotes using CNN"
   ]
  },
  {
   "cell_type": "markdown",
   "id": "f75ad4b1",
   "metadata": {},
   "source": [
    "## Data Augmentation "
   ]
  },
  {
   "cell_type": "code",
   "execution_count": null,
   "id": "14c98af4",
   "metadata": {},
   "outputs": [],
   "source": [
    "#creating image dataset"
   ]
  },
  {
   "cell_type": "code",
   "execution_count": 1,
   "id": "7355ebf4",
   "metadata": {},
   "outputs": [],
   "source": [
    "# Data Augmentation using keras\n",
    "from keras.preprocessing.image import ImageDataGenerator, array_to_img, img_to_array, load_img\n"
   ]
  },
  {
   "cell_type": "code",
   "execution_count": 2,
   "id": "efc84366",
   "metadata": {},
   "outputs": [],
   "source": [
    "datagen = ImageDataGenerator(rotation_range = 40,\n",
    "                            width_shift_range = 0.2,\n",
    "                            height_shift_range = 0.2,\n",
    "                            shear_range = 0.2,\n",
    "                            zoom_range = 0.2,\n",
    "                            horizontal_flip = True,\n",
    "                            fill_mode = 'nearest')"
   ]
  },
  {
   "cell_type": "code",
   "execution_count": 85,
   "id": "5c1b6300",
   "metadata": {},
   "outputs": [],
   "source": [
    "img = load_img('Base-dataset/real/50/real50-3.jpg')\n",
    "x = img_to_array(img)\n",
    "x = x.reshape((1,)+ x.shape)"
   ]
  },
  {
   "cell_type": "code",
   "execution_count": 86,
   "id": "6ff6d475",
   "metadata": {},
   "outputs": [],
   "source": [
    "# the .flow() command below generates batches of randomly transformed images\n",
    "# and saves the results to the `preview/` directory\n",
    "i=0\n",
    "for batch in datagen.flow(x, batch_size=1,\n",
    "                         save_to_dir='preview/real/50(Real_Front)', save_prefix ='50USD-real-F', save_format='png'):\n",
    "    i += 1\n",
    "    if i > 650:\n",
    "        break"
   ]
  },
  {
   "cell_type": "markdown",
   "id": "34b9da0d",
   "metadata": {},
   "source": [
    "## Data preparation"
   ]
  },
  {
   "cell_type": "code",
   "execution_count": 2,
   "id": "03f1ac5e",
   "metadata": {},
   "outputs": [
    {
     "name": "stdout",
     "output_type": "stream",
     "text": [
      "Collecting split-folders\n",
      "  Downloading split_folders-0.4.3-py3-none-any.whl (7.4 kB)\n",
      "Installing collected packages: split-folders\n",
      "Successfully installed split-folders-0.4.3\n",
      "Note: you may need to restart the kernel to use updated packages.\n"
     ]
    }
   ],
   "source": [
    "#Organize data into training, validation and testing dirs\n",
    "%pip install split-folders"
   ]
  },
  {
   "cell_type": "code",
   "execution_count": 1,
   "id": "c5300122",
   "metadata": {},
   "outputs": [],
   "source": [
    "import splitfolders\n"
   ]
  },
  {
   "cell_type": "code",
   "execution_count": 3,
   "id": "345c7d1c",
   "metadata": {},
   "outputs": [
    {
     "name": "stderr",
     "output_type": "stream",
     "text": [
      "Copying files: 18118 files [05:40, 53.24 files/s] \n"
     ]
    }
   ],
   "source": [
    "input_folder = 'preview/'\n",
    "\n",
    "splitfolders.ratio(input_folder, output=\"dataset\",\n",
    "                  seed=42, ratio=(.7, .2, .1),\n",
    "                  group_prefix=None)"
   ]
  }
 ],
 "metadata": {
  "kernelspec": {
   "display_name": "Python 3",
   "language": "python",
   "name": "python3"
  },
  "language_info": {
   "codemirror_mode": {
    "name": "ipython",
    "version": 3
   },
   "file_extension": ".py",
   "mimetype": "text/x-python",
   "name": "python",
   "nbconvert_exporter": "python",
   "pygments_lexer": "ipython3",
   "version": "3.8.8"
  }
 },
 "nbformat": 4,
 "nbformat_minor": 5
}
